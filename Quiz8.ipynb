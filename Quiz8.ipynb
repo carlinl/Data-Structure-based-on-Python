{
 "cells": [
  {
   "cell_type": "code",
   "execution_count": null,
   "metadata": {},
   "outputs": [],
   "source": [
    "# Written by **** for COMP9021\n",
    "\n",
    "from linked_list_adt import *\n",
    "\n",
    "class ExtendedLinkedList(LinkedList):\n",
    "    def __init__(self, L = None):\n",
    "        super().__init__(L)\n",
    "\n",
    "    def rearrange(self, step):\n",
    "        node = self.head\n",
    "        length = 1\n",
    "        while node.next_node:\n",
    "            node = node.next_node\n",
    "            length += 1\n",
    "        node = self.head\n",
    "        for i in range(length-1):\n",
    "            node = node.next_node\n",
    "        #link the rear and the head to create a loop\n",
    "        rear = node\n",
    "        rear.next_node = self.head\n",
    "        new_node = rear\n",
    "        for i in range(step-1):\n",
    "            new_node = new_node.next_node\n",
    "        self.head = new_node.next_node\n",
    "\t\t#give list a new head which is the start of the list\n",
    "        node = self.head\n",
    "        new_node.next_node = node.next_node\n",
    "        new_node = node \n",
    "        while step > 1:\n",
    "            for i in range(step-1):\n",
    "                node = node.next_node\n",
    "                if node == rear:\n",
    "                    step -= 1\n",
    "            new_node.next_node = node.next_node\n",
    "            node.next_node = new_node.next_node.next_node\n",
    "            node = new_node.next_node\n",
    "            new_node = node\n",
    "\t\t#end\n",
    "        rear.next_node = None\n",
    "    \n",
    "    \n",
    "    "
   ]
  }
 ],
 "metadata": {
  "kernelspec": {
   "display_name": "Python 3",
   "language": "python",
   "name": "python3"
  },
  "language_info": {
   "codemirror_mode": {
    "name": "ipython",
    "version": 3
   },
   "file_extension": ".py",
   "mimetype": "text/x-python",
   "name": "python",
   "nbconvert_exporter": "python",
   "pygments_lexer": "ipython3",
   "version": "3.7.1"
  }
 },
 "nbformat": 4,
 "nbformat_minor": 2
}

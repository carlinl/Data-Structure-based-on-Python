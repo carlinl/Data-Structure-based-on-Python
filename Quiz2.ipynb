{
 "cells": [
# Written by *** and Eric Martin for COMP9021



import sys
from random import seed, randint
from math import gcd


try:
    arg_for_seed, length, max_value = input('Enter three strictly positive integers: ').split()
except ValueError:
    print('Incorrect input, giving up.')
    sys.exit()
try:
    arg_for_seed, length, max_value = int(arg_for_seed), int(length), int(max_value)
    if arg_for_seed < 1 or length < 1 or max_value < 1:
        raise ValueError
except ValueError:
    print('Incorrect input, giving up.')
    sys.exit()

seed(arg_for_seed)
L = [randint(1, max_value) for _ in range(length)]
print('Here is L:')
print(L)
print()

size_of_simplest_fraction = None
simplest_fractions = []
size_of_most_complex_fraction = None
most_complex_fractions = []
multiplicity_of_largest_prime_factor = 0
largest_prime_factors = []

# REPLACE THIS COMMENT WITH YOUR CODE
from fractions import Fraction as fct

less_than_one_list = []
for numorator in L:
    for denominator in L:
        frct = fct(numorator,denominator) 
        if frct < 1:
            less_than_one_list.append(str(frct))
        elif frct == 1:
            less_than_one_list.append('1/1')
        else:
            pass
unrepeat_fraction = set(less_than_one_list)
min_fraction = min(len(num) for num in unrepeat_fraction)
size_of_simplest_fraction = min_fraction - 1
# print(unrepeat_fraction)
# print(size_of_simplest_fraction)
simplest_fraction = []
for num in unrepeat_fraction:
    if len(num) ==min_fraction:
        small_fic = fct(num)
        simplest_fraction.append(small_fic)
simplest_fraction = sorted(simplest_fraction)
for fc in simplest_fraction:
    pair = (fc.numerator,fc.denominator)
    simplest_fractions.append(pair)
        
max_fraction = max(len(num) for num in unrepeat_fraction)
size_of_most_complex_fraction = max_fraction - 1
most_complex_fraction = []
for num in unrepeat_fraction:
    if len(num) ==max_fraction:
        large_fic = fct(num)
        most_complex_fraction.append(large_fic)
most_complex_fraction = sorted(most_complex_fraction,reverse=True)        
for fc in most_complex_fraction:
    pair = (fc.numerator,fc.denominator)
    most_complex_fractions.append(pair)

high_denominator = set()
high_denominator = (fc.denominator for fc in most_complex_fraction)
# print(high_denominator)
def prime_factor(n):
    if n == 1: return []
    rlist = []
    i = 2
    while i <= n:
        if n % i == 0:
            rlist.append(i)
            n = n // i
            continue
        i += 1
    return rlist

prime_factor_list = []
for denominator in high_denominator:
    if prime_factor(denominator) not in prime_factor_list:
        prime_factor_list.append(prime_factor(denominator))
# print(prime_factor_list)
count_prime = {}
max_value_list = []
for l_list in prime_factor_list:
    for element in l_list:
        if element in count_prime:
            count_prime[element] += 1
        else:
            count_prime[element] = 1
        maxValue = max(count_prime.items(),key=lambda x: x[1])[1]
        max_value_list.append(maxValue)
    count_prime.clear()
# print(max_value_list)
if max_value_list :
	max_multiple = max(max_value_list)
else:
	max_multiple = 0

multiplicity_of_largest_prime_factor = max_multiple
# print(max_multiple)
largest_prime_factor = [] 
for l_list in prime_factor_list:
        for i in l_list:
            if max_multiple == 0:
                largest_prime_factor = [] 
            else:
                if l_list.count(i) == max_multiple:
                    largest_prime_factor.append(i)
largest_prime_factors=sorted(list(set(largest_prime_factor)))
# for l_list in prime_factor_list:
#     for element in l_list:
#         if element == 1:
#             multiplicity_of_largest_prime_factor=0
#             largest_prime_factors = []
			




print('The size of the simplest fraction <= 1 built from members of L is:',
      size_of_simplest_fraction
     )
print('From smallest to largest, those simplest fractions are:')
print('\n'.join(f'    {x}/{y}' for (x, y) in simplest_fractions))
print('The size of the most complex fraction <= 1 built from members of L is:',
      size_of_most_complex_fraction
     )
print('From largest to smallest, those most complex fractions are:')
print('\n'.join(f'    {x}/{y}' for (x, y) in most_complex_fractions))
print("The highest multiplicity of prime factors of the latter's denominators is:",
      multiplicity_of_largest_prime_factor
     )
print('These prime factors of highest multiplicity are, from smallest to largest:')
print('   ', largest_prime_factors)
        
        ],
 "metadata": {},
 "nbformat": 4,
 "nbformat_minor": 2
}
